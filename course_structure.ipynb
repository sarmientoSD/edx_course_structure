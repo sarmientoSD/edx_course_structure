{
 "cells": [
  {
   "cell_type": "code",
   "execution_count": 68,
   "id": "9cc6d9b8",
   "metadata": {},
   "outputs": [],
   "source": [
    "from lxml import etree\n",
    "import csv\n",
    "import argparse\n"
   ]
  },
  {
   "cell_type": "code",
   "execution_count": 69,
   "id": "5e70326f",
   "metadata": {},
   "outputs": [],
   "source": [
    "## CONSTANTS TO GET ATTRIBUTES FROM XMLs\n",
    "DISPLAY_NAME = \"display_name\"\n",
    "ORG = \"org\"\n",
    "COURSE = \"course\"\n",
    "URL_NAME = \"url_name\"\n",
    "\n",
    "\n",
    "FIRST_ROW = [\"index\", \"section\", \"subsection\", \"unit\", \"section_id\", \"subsection_id\", \"unit_id\", \"type_name\",\"element_id\"]\n",
    "\n",
    "OUTPUT_NAME = None\n",
    "INPUT_FILE = \"course.xml\""
   ]
  },
  {
   "cell_type": "markdown",
   "id": "ddf34fac",
   "metadata": {},
   "source": [
    "## Get Course Structure"
   ]
  },
  {
   "cell_type": "code",
   "execution_count": 72,
   "id": "cb0fbf67",
   "metadata": {},
   "outputs": [
    {
     "name": "stdout",
     "output_type": "stream",
     "text": [
      "🚀 Finished creating course structure\n"
     ]
    }
   ],
   "source": [
    "\n",
    "# Open the input file\n",
    "with open(f\"{INPUT_FILE}\", \"r\") as f:\n",
    "    main_root = etree.fromstring(f.read())\n",
    "\n",
    "# Get attributes of input file\n",
    "course_url_name = main_root.attrib.get(URL_NAME)\n",
    "course_org = main_root.attrib.get(ORG)\n",
    "course_course = main_root.attrib.get(COURSE)\n",
    "\n",
    "# Define the output file name based on the attributes of the input file\n",
    "output_name = OUTPUT_NAME if OUTPUT_NAME else \"+\".join(\n",
    "    [course_org, course_course, course_url_name])\n",
    "\n",
    "# Prepate the output file to write as csv\n",
    "with open(f'{output_name}.csv', 'w') as csv_f:\n",
    "    writer = csv.writer(csv_f)\n",
    "\n",
    "    # Write the first row of the csv file(headers)\n",
    "    writer.writerow(FIRST_ROW)\n",
    "\n",
    "    # Open xml file in course folder based on the url_name\n",
    "    with open(f\"course/{course_url_name}.xml\", \"r\") as f:\n",
    "        course_root = etree.fromstring(f.read())\n",
    "\n",
    "    # Init index of table\n",
    "    index = 1\n",
    "\n",
    "    # course_display_name = course_root.attrib.get(DISPLAY_NAME) ### Course name is not needed\n",
    "\n",
    "    # Iterate over earch chapter\n",
    "    for course_chapter in course_root.findall(\".//chapter\"):\n",
    "        # Get chapter id\n",
    "        chapter_url_name = course_chapter.attrib.get(URL_NAME)\n",
    "\n",
    "        with open(f\"chapter/{chapter_url_name}.xml\") as f:\n",
    "            chapter_root = etree.fromstring(f.read())\n",
    "\n",
    "        # Get Chapter Name\n",
    "        chapter_display_name = chapter_root.attrib.get(DISPLAY_NAME)\n",
    "        # Iterate over each section\n",
    "        for chapter_sequential in chapter_root.findall(\".//sequential\"):\n",
    "            # Get section id\n",
    "            sequential_url_name = chapter_sequential.attrib.get(URL_NAME)\n",
    "\n",
    "            with open(f\"sequential/{sequential_url_name}.xml\") as f:\n",
    "                sequential_root = etree.fromstring(f.read())\n",
    "            # Get section name\n",
    "            sequential_display_name = sequential_root.attrib.get(\n",
    "                DISPLAY_NAME)\n",
    "\n",
    "            # Iterate over each unit\n",
    "            for sequential_vertical in sequential_root.findall(\".//vertical\"):\n",
    "                # Get unit id\n",
    "                vertical_url_name = sequential_vertical.attrib.get(\n",
    "                    URL_NAME)\n",
    "\n",
    "                with open(f\"vertical/{vertical_url_name}.xml\", \"r\") as f:\n",
    "                    vertical_root = etree.fromstring(f.read())\n",
    "                # Get unit name\n",
    "                vertical_display_name = vertical_root.attrib.get(\n",
    "                    DISPLAY_NAME)\n",
    "\n",
    "                # Iterate over each child of unit (video, html, problem)\n",
    "                for vertical_child in vertical_root:\n",
    "                    # Get type of child(video, html, problem)\n",
    "                    type_name = vertical_child.tag\n",
    "                    # Get element id\n",
    "                    vertical_child_url_name = vertical_child.attrib.get(\n",
    "                        URL_NAME)\n",
    "                    row = [index,\n",
    "                           chapter_display_name,\n",
    "                           sequential_display_name,\n",
    "                           vertical_display_name,\n",
    "                           chapter_url_name,\n",
    "                           sequential_url_name,\n",
    "                           vertical_url_name,\n",
    "                           type_name,\n",
    "                           vertical_child_url_name]\n",
    "                    index += 1\n",
    "                    # Write row to csv file\n",
    "                    writer.writerow(row)\n",
    "\n",
    "    print(\"🚀 Finished creating course structure\")"
   ]
  }
 ],
 "metadata": {
  "kernelspec": {
   "display_name": "Python (myenv)",
   "language": "python",
   "name": "myenv"
  },
  "language_info": {
   "codemirror_mode": {
    "name": "ipython",
    "version": 3
   },
   "file_extension": ".py",
   "mimetype": "text/x-python",
   "name": "python",
   "nbconvert_exporter": "python",
   "pygments_lexer": "ipython3",
   "version": "3.7.11"
  }
 },
 "nbformat": 4,
 "nbformat_minor": 5
}
